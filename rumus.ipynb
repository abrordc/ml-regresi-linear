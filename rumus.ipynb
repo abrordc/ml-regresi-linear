{
 "cells": [
  {
   "cell_type": "markdown",
   "metadata": {},
   "source": [
    "rumus pytagoras\n"
   ]
  },
  {
   "cell_type": "markdown",
   "metadata": {},
   "source": [
    "c/2 = a/2 + b/2\n",
    "\n",
    "c/2 = 2/2 + 2/2\n",
    "\n",
    "c/2 = 4 + 4\n",
    "\n",
    "c/2 = 8\n",
    "\n",
    "2/2 = 2 * 2 "
   ]
  },
  {
   "cell_type": "code",
   "execution_count": null,
   "metadata": {},
   "outputs": [],
   "source": [
    "X1 = [40,50,50,70,80,60,50]\n",
    "X2 = [5,8,7,4,4,6,3]\n",
    "X3 = [60,40,30,60,80,60,40]\n",
    "\n",
    "\n",
    "Y = [\"TOLAK\", \"TERIMA\"]\n",
    "\n"
   ]
  }
 ],
 "metadata": {
  "language_info": {
   "name": "python"
  }
 },
 "nbformat": 4,
 "nbformat_minor": 2
}
