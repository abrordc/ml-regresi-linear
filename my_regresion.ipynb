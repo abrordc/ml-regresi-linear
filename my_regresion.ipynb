{
 "cells": [
  {
   "cell_type": "markdown",
   "metadata": {},
   "source": [
    "library yang di butuhkan"
   ]
  },
  {
   "cell_type": "code",
   "execution_count": 1,
   "metadata": {},
   "outputs": [],
   "source": [
    "import numpy as np\n",
    "import pandas as pd\n",
    "import matplotlib.pyplot as plt\n",
    "from sklearn.model_selection import train_test_split\n",
    "from sklearn.linear_model import LinearRegression\n",
    "from sklearn.metrics import mean_squared_error\n",
    "import pickle  # Import modul pickle untuk menyimpan model"
   ]
  },
  {
   "cell_type": "markdown",
   "metadata": {},
   "source": [
    "data dummy "
   ]
  },
  {
   "cell_type": "code",
   "execution_count": 2,
   "metadata": {},
   "outputs": [],
   "source": [
    "# Contoh data: Luas rumah (dalam m2) dan harga rumah (dalam juta)\n",
    "data = {\n",
    "    'Luas_Rumah': [50, 60, 70, 80, 100, 120, 150, 200],\n",
    "    'Harga_Rumah': [500, 550, 600, 650, 700, 800, 1000, 1200]\n",
    "}"
   ]
  },
  {
   "cell_type": "code",
   "execution_count": null,
   "metadata": {},
   "outputs": [],
   "source": [
    "# Mengubah data menjadi DataFrame\n",
    "df = pd.DataFrame(data)\n",
    "\n",
    "# Memisahkan fitur (Luas_Rumah) dan label (Harga_Rumah)\n",
    "X = df[['Luas_Rumah']]  # Fitur (input)\n",
    "y = df['Harga_Rumah']  # Label (output)\n",
    "\n",
    "# Membagi data menjadi data latih dan data uji\n",
    "X_train, X_test, y_train, y_test = train_test_split(X, y, test_size=0.2, random_state=42)\n",
    "\n",
    "#cetak data train dan test \n",
    "print(\"data training:\\n\",X_train)\n",
    "print(\"data testing:\\n\",X_test)"
   ]
  },
  {
   "cell_type": "code",
   "execution_count": null,
   "metadata": {},
   "outputs": [],
   "source": [
    "# Membuat model regresi linear\n",
    "model = LinearRegression()\n",
    "\n",
    "# Melatih model dengan data latih\n",
    "model.fit(X_train, y_train)\n",
    "\n",
    "# Melakukan prediksi terhadap data uji\n",
    "y_pred = model.predict(X_test)\n",
    "\n",
    "# Menampilkan hasil prediksi\n",
    "print(\"Prediksi harga rumah:\", y_pred)\n",
    "\n",
    "# Menampilkan error (Mean Squared Error)\n",
    "mse = mean_squared_error(y_test, y_pred)\n",
    "print(\"Mean Squared Error:\", mse)"
   ]
  },
  {
   "cell_type": "code",
   "execution_count": null,
   "metadata": {},
   "outputs": [],
   "source": [
    "# Menghitung R-squared (koefisien determinasi)\n",
    "r_squared = model.score(X_test, y_test)\n",
    "print(\"R-squared:\", r_squared)\n",
    "\n",
    "# Menyimpan model ke dalam file pickle, setelah model dilatih\n",
    "with open('modelRegresiku.pkl', 'wb') as file:\n",
    "    pickle.dump(model, file)\n",
    "print(\"Model telah disimpan ke dalam file 'modelRegresiku.pkl'.\")\n",
    "\n",
    "# Visualisasi hasil regresi linear\n",
    "plt.scatter(X, y, color='blue')  # Plot data asli\n",
    "plt.plot(X, model.predict(X), color='red')  # Plot garis regresi\n",
    "plt.title(\"Regresi Linear: Luas Rumah vs Harga Rumah\")\n",
    "plt.xlabel(\"Luas Rumah (m2)\")\n",
    "plt.ylabel(\"Harga Rumah (juta)\")\n",
    "plt.show()\n"
   ]
  }
 ],
 "metadata": {
  "kernelspec": {
   "display_name": ".env",
   "language": "python",
   "name": "python3"
  },
  "language_info": {
   "codemirror_mode": {
    "name": "ipython",
    "version": 3
   },
   "file_extension": ".py",
   "mimetype": "text/x-python",
   "name": "python",
   "nbconvert_exporter": "python",
   "pygments_lexer": "ipython3",
   "version": "3.13.0"
  }
 },
 "nbformat": 4,
 "nbformat_minor": 2
}
